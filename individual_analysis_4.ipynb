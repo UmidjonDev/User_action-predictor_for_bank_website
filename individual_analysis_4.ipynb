{
 "cells": [
  {
   "cell_type": "markdown",
   "metadata": {},
   "source": [
    "This jupyter notebook contains the analytical information of the database for business question : \n",
    "\n",
    "    \n",
    "    Should we increase our presence on social media and advertise there more?"
   ]
  },
  {
   "cell_type": "markdown",
   "metadata": {},
   "source": [
    "Author : Umidjon Sattorov student at skillbox platform"
   ]
  },
  {
   "cell_type": "code",
   "execution_count": 34,
   "metadata": {},
   "outputs": [
    {
     "name": "stderr",
     "output_type": "stream",
     "text": [
      "C:\\Users\\User\\AppData\\Local\\Temp\\ipykernel_5868\\205527950.py:8: DtypeWarning: Columns (1) have mixed types. Specify dtype option on import or set low_memory=False.\n",
      "  df_session = pd.read_csv(filepath_or_buffer = './data/ga_sessions.csv')\n"
     ]
    },
    {
     "data": {
      "text/html": [
       "<div>\n",
       "<style scoped>\n",
       "    .dataframe tbody tr th:only-of-type {\n",
       "        vertical-align: middle;\n",
       "    }\n",
       "\n",
       "    .dataframe tbody tr th {\n",
       "        vertical-align: top;\n",
       "    }\n",
       "\n",
       "    .dataframe thead th {\n",
       "        text-align: right;\n",
       "    }\n",
       "</style>\n",
       "<table border=\"1\" class=\"dataframe\">\n",
       "  <thead>\n",
       "    <tr style=\"text-align: right;\">\n",
       "      <th></th>\n",
       "      <th>session_id</th>\n",
       "      <th>hit_date</th>\n",
       "      <th>hit_time</th>\n",
       "      <th>hit_number</th>\n",
       "      <th>hit_type</th>\n",
       "      <th>hit_referer</th>\n",
       "      <th>hit_page_path</th>\n",
       "      <th>event_category</th>\n",
       "      <th>event_action</th>\n",
       "      <th>event_label</th>\n",
       "      <th>...</th>\n",
       "      <th>utm_keyword</th>\n",
       "      <th>device_category</th>\n",
       "      <th>device_os</th>\n",
       "      <th>device_brand</th>\n",
       "      <th>device_model</th>\n",
       "      <th>device_screen_resolution</th>\n",
       "      <th>device_browser</th>\n",
       "      <th>geo_country</th>\n",
       "      <th>geo_city</th>\n",
       "      <th>target_action</th>\n",
       "    </tr>\n",
       "  </thead>\n",
       "  <tbody>\n",
       "    <tr>\n",
       "      <th>239</th>\n",
       "      <td>6466333295973247896.1640246168.1640246168</td>\n",
       "      <td>2021-12-23</td>\n",
       "      <td>2442217.0</td>\n",
       "      <td>87</td>\n",
       "      <td>event</td>\n",
       "      <td>NaN</td>\n",
       "      <td>sberauto.com/cars/all/skoda/octavia/4791c8b2?u...</td>\n",
       "      <td>sub_button_click</td>\n",
       "      <td>sub_car_claim_submit_click</td>\n",
       "      <td>NaN</td>\n",
       "      <td>...</td>\n",
       "      <td>rcScqexpyNHshwBMMfPx</td>\n",
       "      <td>desktop</td>\n",
       "      <td>Windows</td>\n",
       "      <td>NaN</td>\n",
       "      <td>NaN</td>\n",
       "      <td>1920x1080</td>\n",
       "      <td>YaBrowser</td>\n",
       "      <td>Russia</td>\n",
       "      <td>Moscow</td>\n",
       "      <td>1</td>\n",
       "    </tr>\n",
       "    <tr>\n",
       "      <th>261</th>\n",
       "      <td>6466333295973247896.1640246168.1640246168</td>\n",
       "      <td>2021-12-23</td>\n",
       "      <td>2442533.0</td>\n",
       "      <td>88</td>\n",
       "      <td>event</td>\n",
       "      <td>NaN</td>\n",
       "      <td>sberauto.com/cars/all/skoda/octavia/4791c8b2?u...</td>\n",
       "      <td>sub_submit</td>\n",
       "      <td>sub_submit_success</td>\n",
       "      <td>nsPPIRqjxBefONGPpnsF</td>\n",
       "      <td>...</td>\n",
       "      <td>rcScqexpyNHshwBMMfPx</td>\n",
       "      <td>desktop</td>\n",
       "      <td>Windows</td>\n",
       "      <td>NaN</td>\n",
       "      <td>NaN</td>\n",
       "      <td>1920x1080</td>\n",
       "      <td>YaBrowser</td>\n",
       "      <td>Russia</td>\n",
       "      <td>Moscow</td>\n",
       "      <td>1</td>\n",
       "    </tr>\n",
       "    <tr>\n",
       "      <th>279</th>\n",
       "      <td>6466333295973247896.1640246168.1640246168</td>\n",
       "      <td>2021-12-23</td>\n",
       "      <td>2434942.0</td>\n",
       "      <td>86</td>\n",
       "      <td>event</td>\n",
       "      <td>NaN</td>\n",
       "      <td>sberauto.com/cars/all/skoda/octavia/4791c8b2?u...</td>\n",
       "      <td>sub_button_click</td>\n",
       "      <td>sub_car_claim_click</td>\n",
       "      <td>EsLbNNEnCkXWoaesnKlS</td>\n",
       "      <td>...</td>\n",
       "      <td>rcScqexpyNHshwBMMfPx</td>\n",
       "      <td>desktop</td>\n",
       "      <td>Windows</td>\n",
       "      <td>NaN</td>\n",
       "      <td>NaN</td>\n",
       "      <td>1920x1080</td>\n",
       "      <td>YaBrowser</td>\n",
       "      <td>Russia</td>\n",
       "      <td>Moscow</td>\n",
       "      <td>1</td>\n",
       "    </tr>\n",
       "    <tr>\n",
       "      <th>1140</th>\n",
       "      <td>3509799545959915269.1640275720.1640275720</td>\n",
       "      <td>2021-12-23</td>\n",
       "      <td>39533.0</td>\n",
       "      <td>9</td>\n",
       "      <td>event</td>\n",
       "      <td>NaN</td>\n",
       "      <td>sberauto.com/cars/all/skoda/rapid/bf24b977?ren...</td>\n",
       "      <td>sub_button_click</td>\n",
       "      <td>sub_car_claim_click</td>\n",
       "      <td>EsLbNNEnCkXWoaesnKlS</td>\n",
       "      <td>...</td>\n",
       "      <td>puhZPIYqKXeFPaUviSjo</td>\n",
       "      <td>mobile</td>\n",
       "      <td>Android</td>\n",
       "      <td>Huawei</td>\n",
       "      <td>NaN</td>\n",
       "      <td>360x780</td>\n",
       "      <td>Chrome</td>\n",
       "      <td>Russia</td>\n",
       "      <td>Tula</td>\n",
       "      <td>1</td>\n",
       "    </tr>\n",
       "    <tr>\n",
       "      <th>1179</th>\n",
       "      <td>6661709970993885304.1640280200.1640280200</td>\n",
       "      <td>2021-12-23</td>\n",
       "      <td>34986.0</td>\n",
       "      <td>9</td>\n",
       "      <td>event</td>\n",
       "      <td>NaN</td>\n",
       "      <td>sberauto.com/cars/all/skoda/rapid/bf24b977?ren...</td>\n",
       "      <td>sub_button_click</td>\n",
       "      <td>sub_car_claim_click</td>\n",
       "      <td>EsLbNNEnCkXWoaesnKlS</td>\n",
       "      <td>...</td>\n",
       "      <td>puhZPIYqKXeFPaUviSjo</td>\n",
       "      <td>mobile</td>\n",
       "      <td>Android</td>\n",
       "      <td>Samsung</td>\n",
       "      <td>NaN</td>\n",
       "      <td>412x915</td>\n",
       "      <td>Android Webview</td>\n",
       "      <td>Russia</td>\n",
       "      <td>Saint Petersburg</td>\n",
       "      <td>1</td>\n",
       "    </tr>\n",
       "    <tr>\n",
       "      <th>...</th>\n",
       "      <td>...</td>\n",
       "      <td>...</td>\n",
       "      <td>...</td>\n",
       "      <td>...</td>\n",
       "      <td>...</td>\n",
       "      <td>...</td>\n",
       "      <td>...</td>\n",
       "      <td>...</td>\n",
       "      <td>...</td>\n",
       "      <td>...</td>\n",
       "      <td>...</td>\n",
       "      <td>...</td>\n",
       "      <td>...</td>\n",
       "      <td>...</td>\n",
       "      <td>...</td>\n",
       "      <td>...</td>\n",
       "      <td>...</td>\n",
       "      <td>...</td>\n",
       "      <td>...</td>\n",
       "      <td>...</td>\n",
       "      <td>...</td>\n",
       "    </tr>\n",
       "    <tr>\n",
       "      <th>15682773</th>\n",
       "      <td>3906921911594195664.1640176339.1640176339</td>\n",
       "      <td>2021-12-22</td>\n",
       "      <td>8846.0</td>\n",
       "      <td>5</td>\n",
       "      <td>event</td>\n",
       "      <td>NaN</td>\n",
       "      <td>podpiska.sberauto.com/</td>\n",
       "      <td>sub_button_click</td>\n",
       "      <td>sub_open_dialog_click</td>\n",
       "      <td>DrwJcHfmgRDbfayCKOrQ</td>\n",
       "      <td>...</td>\n",
       "      <td>puhZPIYqKXeFPaUviSjo</td>\n",
       "      <td>mobile</td>\n",
       "      <td>Android</td>\n",
       "      <td>Xiaomi</td>\n",
       "      <td>NaN</td>\n",
       "      <td>360x760</td>\n",
       "      <td>Chrome</td>\n",
       "      <td>Russia</td>\n",
       "      <td>Moscow</td>\n",
       "      <td>1</td>\n",
       "    </tr>\n",
       "    <tr>\n",
       "      <th>15683864</th>\n",
       "      <td>3487456408821107745.1636356536.1636356536</td>\n",
       "      <td>2021-11-08</td>\n",
       "      <td>0.0</td>\n",
       "      <td>1</td>\n",
       "      <td>event</td>\n",
       "      <td>NaN</td>\n",
       "      <td>localhost/cars/all/hyundai/solaris/b82590a3?ab...</td>\n",
       "      <td>sub_button_click</td>\n",
       "      <td>sub_car_claim_click</td>\n",
       "      <td>EsLbNNEnCkXWoaesnKlS</td>\n",
       "      <td>...</td>\n",
       "      <td>puhZPIYqKXeFPaUviSjo</td>\n",
       "      <td>mobile</td>\n",
       "      <td>iOS</td>\n",
       "      <td>Apple</td>\n",
       "      <td>NaN</td>\n",
       "      <td>390x844</td>\n",
       "      <td>Safari</td>\n",
       "      <td>Russia</td>\n",
       "      <td>Domodedovo</td>\n",
       "      <td>1</td>\n",
       "    </tr>\n",
       "    <tr>\n",
       "      <th>15684166</th>\n",
       "      <td>2449210543906459314.1638895283.1638895283</td>\n",
       "      <td>2021-12-07</td>\n",
       "      <td>20720.0</td>\n",
       "      <td>4</td>\n",
       "      <td>event</td>\n",
       "      <td>NaN</td>\n",
       "      <td>podpiska.sberauto.com/</td>\n",
       "      <td>sub_button_click</td>\n",
       "      <td>sub_open_dialog_click</td>\n",
       "      <td>DrwJcHfmgRDbfayCKOrQ</td>\n",
       "      <td>...</td>\n",
       "      <td>QVwnwuQeEBRKybYuwqrE</td>\n",
       "      <td>mobile</td>\n",
       "      <td>Android</td>\n",
       "      <td>Xiaomi</td>\n",
       "      <td>NaN</td>\n",
       "      <td>873x393</td>\n",
       "      <td>Chrome</td>\n",
       "      <td>Russia</td>\n",
       "      <td>Moscow</td>\n",
       "      <td>1</td>\n",
       "    </tr>\n",
       "    <tr>\n",
       "      <th>15684657</th>\n",
       "      <td>6896749247357807171.1639213519.1639213519</td>\n",
       "      <td>2021-12-11</td>\n",
       "      <td>66501.0</td>\n",
       "      <td>4</td>\n",
       "      <td>event</td>\n",
       "      <td>NaN</td>\n",
       "      <td>podpiska.sberauto.com/</td>\n",
       "      <td>sub_button_click</td>\n",
       "      <td>sub_open_dialog_click</td>\n",
       "      <td>DrwJcHfmgRDbfayCKOrQ</td>\n",
       "      <td>...</td>\n",
       "      <td>puhZPIYqKXeFPaUviSjo</td>\n",
       "      <td>mobile</td>\n",
       "      <td>Android</td>\n",
       "      <td>Samsung</td>\n",
       "      <td>NaN</td>\n",
       "      <td>320x534</td>\n",
       "      <td>Chrome</td>\n",
       "      <td>Russia</td>\n",
       "      <td>Saint Petersburg</td>\n",
       "      <td>1</td>\n",
       "    </tr>\n",
       "    <tr>\n",
       "      <th>15685202</th>\n",
       "      <td>2388992469599505452.1636833522.1636833522</td>\n",
       "      <td>2021-11-13</td>\n",
       "      <td>0.0</td>\n",
       "      <td>1</td>\n",
       "      <td>event</td>\n",
       "      <td>NaN</td>\n",
       "      <td>podpiska.sberauto.com/</td>\n",
       "      <td>sub_button_click</td>\n",
       "      <td>sub_open_dialog_click</td>\n",
       "      <td>DrwJcHfmgRDbfayCKOrQ</td>\n",
       "      <td>...</td>\n",
       "      <td>IGUCNvHlhfHpROGclCit</td>\n",
       "      <td>mobile</td>\n",
       "      <td>Android</td>\n",
       "      <td>Huawei</td>\n",
       "      <td>NaN</td>\n",
       "      <td>360x771</td>\n",
       "      <td>Chrome</td>\n",
       "      <td>Russia</td>\n",
       "      <td>Moscow</td>\n",
       "      <td>1</td>\n",
       "    </tr>\n",
       "  </tbody>\n",
       "</table>\n",
       "<p>102842 rows × 29 columns</p>\n",
       "</div>"
      ],
      "text/plain": [
       "                                         session_id    hit_date   hit_time  \\\n",
       "239       6466333295973247896.1640246168.1640246168  2021-12-23  2442217.0   \n",
       "261       6466333295973247896.1640246168.1640246168  2021-12-23  2442533.0   \n",
       "279       6466333295973247896.1640246168.1640246168  2021-12-23  2434942.0   \n",
       "1140      3509799545959915269.1640275720.1640275720  2021-12-23    39533.0   \n",
       "1179      6661709970993885304.1640280200.1640280200  2021-12-23    34986.0   \n",
       "...                                             ...         ...        ...   \n",
       "15682773  3906921911594195664.1640176339.1640176339  2021-12-22     8846.0   \n",
       "15683864  3487456408821107745.1636356536.1636356536  2021-11-08        0.0   \n",
       "15684166  2449210543906459314.1638895283.1638895283  2021-12-07    20720.0   \n",
       "15684657  6896749247357807171.1639213519.1639213519  2021-12-11    66501.0   \n",
       "15685202  2388992469599505452.1636833522.1636833522  2021-11-13        0.0   \n",
       "\n",
       "          hit_number hit_type hit_referer  \\\n",
       "239               87    event         NaN   \n",
       "261               88    event         NaN   \n",
       "279               86    event         NaN   \n",
       "1140               9    event         NaN   \n",
       "1179               9    event         NaN   \n",
       "...              ...      ...         ...   \n",
       "15682773           5    event         NaN   \n",
       "15683864           1    event         NaN   \n",
       "15684166           4    event         NaN   \n",
       "15684657           4    event         NaN   \n",
       "15685202           1    event         NaN   \n",
       "\n",
       "                                              hit_page_path    event_category  \\\n",
       "239       sberauto.com/cars/all/skoda/octavia/4791c8b2?u...  sub_button_click   \n",
       "261       sberauto.com/cars/all/skoda/octavia/4791c8b2?u...        sub_submit   \n",
       "279       sberauto.com/cars/all/skoda/octavia/4791c8b2?u...  sub_button_click   \n",
       "1140      sberauto.com/cars/all/skoda/rapid/bf24b977?ren...  sub_button_click   \n",
       "1179      sberauto.com/cars/all/skoda/rapid/bf24b977?ren...  sub_button_click   \n",
       "...                                                     ...               ...   \n",
       "15682773                             podpiska.sberauto.com/  sub_button_click   \n",
       "15683864  localhost/cars/all/hyundai/solaris/b82590a3?ab...  sub_button_click   \n",
       "15684166                             podpiska.sberauto.com/  sub_button_click   \n",
       "15684657                             podpiska.sberauto.com/  sub_button_click   \n",
       "15685202                             podpiska.sberauto.com/  sub_button_click   \n",
       "\n",
       "                        event_action           event_label  ...  \\\n",
       "239       sub_car_claim_submit_click                   NaN  ...   \n",
       "261               sub_submit_success  nsPPIRqjxBefONGPpnsF  ...   \n",
       "279              sub_car_claim_click  EsLbNNEnCkXWoaesnKlS  ...   \n",
       "1140             sub_car_claim_click  EsLbNNEnCkXWoaesnKlS  ...   \n",
       "1179             sub_car_claim_click  EsLbNNEnCkXWoaesnKlS  ...   \n",
       "...                              ...                   ...  ...   \n",
       "15682773       sub_open_dialog_click  DrwJcHfmgRDbfayCKOrQ  ...   \n",
       "15683864         sub_car_claim_click  EsLbNNEnCkXWoaesnKlS  ...   \n",
       "15684166       sub_open_dialog_click  DrwJcHfmgRDbfayCKOrQ  ...   \n",
       "15684657       sub_open_dialog_click  DrwJcHfmgRDbfayCKOrQ  ...   \n",
       "15685202       sub_open_dialog_click  DrwJcHfmgRDbfayCKOrQ  ...   \n",
       "\n",
       "                   utm_keyword device_category device_os device_brand  \\\n",
       "239       rcScqexpyNHshwBMMfPx         desktop   Windows          NaN   \n",
       "261       rcScqexpyNHshwBMMfPx         desktop   Windows          NaN   \n",
       "279       rcScqexpyNHshwBMMfPx         desktop   Windows          NaN   \n",
       "1140      puhZPIYqKXeFPaUviSjo          mobile   Android       Huawei   \n",
       "1179      puhZPIYqKXeFPaUviSjo          mobile   Android      Samsung   \n",
       "...                        ...             ...       ...          ...   \n",
       "15682773  puhZPIYqKXeFPaUviSjo          mobile   Android       Xiaomi   \n",
       "15683864  puhZPIYqKXeFPaUviSjo          mobile       iOS        Apple   \n",
       "15684166  QVwnwuQeEBRKybYuwqrE          mobile   Android       Xiaomi   \n",
       "15684657  puhZPIYqKXeFPaUviSjo          mobile   Android      Samsung   \n",
       "15685202  IGUCNvHlhfHpROGclCit          mobile   Android       Huawei   \n",
       "\n",
       "          device_model device_screen_resolution   device_browser geo_country  \\\n",
       "239                NaN                1920x1080        YaBrowser      Russia   \n",
       "261                NaN                1920x1080        YaBrowser      Russia   \n",
       "279                NaN                1920x1080        YaBrowser      Russia   \n",
       "1140               NaN                  360x780           Chrome      Russia   \n",
       "1179               NaN                  412x915  Android Webview      Russia   \n",
       "...                ...                      ...              ...         ...   \n",
       "15682773           NaN                  360x760           Chrome      Russia   \n",
       "15683864           NaN                  390x844           Safari      Russia   \n",
       "15684166           NaN                  873x393           Chrome      Russia   \n",
       "15684657           NaN                  320x534           Chrome      Russia   \n",
       "15685202           NaN                  360x771           Chrome      Russia   \n",
       "\n",
       "                  geo_city target_action  \n",
       "239                 Moscow             1  \n",
       "261                 Moscow             1  \n",
       "279                 Moscow             1  \n",
       "1140                  Tula             1  \n",
       "1179      Saint Petersburg             1  \n",
       "...                    ...           ...  \n",
       "15682773            Moscow             1  \n",
       "15683864        Domodedovo             1  \n",
       "15684166            Moscow             1  \n",
       "15684657  Saint Petersburg             1  \n",
       "15685202            Moscow             1  \n",
       "\n",
       "[102842 rows x 29 columns]"
      ]
     },
     "execution_count": 34,
     "metadata": {},
     "output_type": "execute_result"
    }
   ],
   "source": [
    "import pandas as pd \n",
    "import numpy as np \n",
    "\n",
    "import matplotlib.pyplot as plt\n",
    "import seaborn\n",
    "\n",
    "df = pd.read_csv(filepath_or_buffer = \"./data/ga_hits.csv\")\n",
    "df_session = pd.read_csv(filepath_or_buffer = './data/ga_sessions.csv')\n",
    "total_dataframe = pd.merge(left = df, right = df_session, on = \"session_id\")\n",
    "\n",
    "target_actions = ['sub_car_claim_click', 'sub_car_claim_submit_click', 'sub_open_dialog_click', 'sub_custom_question_submit_click', 'sub_call_number_click', 'sub_callback_submit_click', 'sub_submit_success', 'sub_car_request_submit_click']\n",
    "total_dataframe['target_action'] = 0\n",
    "total_dataframe.loc[total_dataframe['event_action'].isin(target_actions), 'target_action'] = 1\n",
    "total_dataframe[total_dataframe['event_action'].isin(target_actions)]"
   ]
  },
  {
   "cell_type": "code",
   "execution_count": 51,
   "metadata": {},
   "outputs": [
    {
     "name": "stderr",
     "output_type": "stream",
     "text": [
      "C:\\Users\\User\\AppData\\Local\\Temp\\ipykernel_5868\\2284002346.py:3: SettingWithCopyWarning: \n",
      "A value is trying to be set on a copy of a slice from a DataFrame\n",
      "\n",
      "See the caveats in the documentation: https://pandas.pydata.org/pandas-docs/stable/user_guide/indexing.html#returning-a-view-versus-a-copy\n",
      "  social_media_analysis.dropna(inplace = True)\n"
     ]
    },
    {
     "data": {
      "text/plain": [
       "(5432568, 7)"
      ]
     },
     "execution_count": 51,
     "metadata": {},
     "output_type": "execute_result"
    }
   ],
   "source": [
    "cols = ['utm_adcontent', 'utm_campaign', 'utm_source', 'utm_medium', 'utm_keyword']\n",
    "social_media_analysis = total_dataframe[['session_id', 'target_action'] + cols]\n",
    "social_media_analysis.dropna(inplace = True)\n",
    "social_media_analysis.shape"
   ]
  },
  {
   "cell_type": "code",
   "execution_count": 52,
   "metadata": {},
   "outputs": [
    {
     "name": "stderr",
     "output_type": "stream",
     "text": [
      "C:\\Users\\User\\AppData\\Local\\Temp\\ipykernel_5868\\3309076244.py:3: SettingWithCopyWarning: \n",
      "A value is trying to be set on a copy of a slice from a DataFrame.\n",
      "Try using .loc[row_indexer,col_indexer] = value instead\n",
      "\n",
      "See the caveats in the documentation: https://pandas.pydata.org/pandas-docs/stable/user_guide/indexing.html#returning-a-view-versus-a-copy\n",
      "  social_media_analysis[\"is_social_media\"] = 0\n"
     ]
    },
    {
     "data": {
      "text/plain": [
       "is_social_media\n",
       "0    5384826\n",
       "1      47742\n",
       "Name: count, dtype: int64"
      ]
     },
     "execution_count": 52,
     "metadata": {},
     "output_type": "execute_result"
    }
   ],
   "source": [
    "utm_campaign_social_nets = ['QxAxdyPLuQMEcrdZWdWb', 'MvfHsxlTijuriZxsqZqt', 'ISrKoXQCxqqYvAZICvjs', 'IZEXUFLARCUMynmHNBGo', 'PlbkrSYoHuZBWfYjYnfw', 'gVRrcxiDQubJiljoTbGm']\n",
    "\n",
    "social_media_analysis[\"is_social_media\"] = 0\n",
    "\n",
    "mask = social_media_analysis[cols].isin(utm_campaign_social_nets).any(axis = 1)\n",
    "\n",
    "social_media_analysis.loc[mask, \"is_social_media\"] = 1\n",
    "\n",
    "social_media_analysis['is_social_media'].value_counts()"
   ]
  },
  {
   "cell_type": "code",
   "execution_count": 53,
   "metadata": {},
   "outputs": [
    {
     "data": {
      "text/plain": [
       "<Figure size 1200x1200 with 0 Axes>"
      ]
     },
     "metadata": {},
     "output_type": "display_data"
    },
    {
     "data": {
      "image/png": "[encoded data removed]",
      "text/plain": [
       "<Figure size 640x480 with 1 Axes>"
      ]
     },
     "metadata": {},
     "output_type": "display_data"
    }
   ],
   "source": [
    "plt.figure(figsize = (12, 12))\n",
    "fig, ax = plt.subplots()\n",
    "ax.pie(\n",
    "    social_media_analysis['is_social_media'].value_counts().values,\n",
    "    labels=social_media_analysis['is_social_media'].value_counts().index.tolist(),\n",
    "    autopct='%1.1f%%',\n",
    "    pctdistance=1.25,\n",
    "    labeldistance=0.2\n",
    ")\n",
    "ax.set_title(label = \"Social campaign distribution\")\n",
    "ax.legend(['other_media_source', 'social_media'], loc = 3)\n",
    "plt.show()"
   ]
  },
  {
   "cell_type": "code",
   "execution_count": 56,
   "metadata": {},
   "outputs": [
    {
     "data": {
      "text/plain": [
       "is_social_media\n",
       "0    25948\n",
       "1      326\n",
       "Name: count, dtype: int64"
      ]
     },
     "execution_count": 56,
     "metadata": {},
     "output_type": "execute_result"
    }
   ],
   "source": [
    "social_media_analysis[social_media_analysis['target_action'] == 1]['is_social_media'].value_counts()"
   ]
  },
  {
   "cell_type": "code",
   "execution_count": 57,
   "metadata": {},
   "outputs": [
    {
     "data": {
      "text/plain": [
       "<Figure size 1200x1200 with 0 Axes>"
      ]
     },
     "metadata": {},
     "output_type": "display_data"
    },
    {
     "data": {
      "image/png": "[encoded data removed]",
      "text/plain": [
       "<Figure size 640x480 with 1 Axes>"
      ]
     },
     "metadata": {},
     "output_type": "display_data"
    }
   ],
   "source": [
    "plt.figure(figsize = (12, 12))\n",
    "fig, ax = plt.subplots()\n",
    "ax.pie(\n",
    "    social_media_analysis[social_media_analysis['target_action'] == 1]['is_social_media'].value_counts().values,\n",
    "    labels=social_media_analysis[social_media_analysis['target_action'] == 1]['is_social_media'].value_counts().index.tolist(),\n",
    "    autopct='%1.1f%%',\n",
    "    pctdistance=1.25,\n",
    "    labeldistance=0.2\n",
    ")\n",
    "ax.set_title(label = \"Social campaign distribution(Target action)\")\n",
    "ax.legend(['other_media_source', 'social_media'], loc = 3)\n",
    "plt.show()"
   ]
  },
  {
   "cell_type": "code",
   "execution_count": 58,
   "metadata": {},
   "outputs": [
    {
     "data": {
      "text/plain": [
       "(627140, 8)"
      ]
     },
     "execution_count": 58,
     "metadata": {},
     "output_type": "execute_result"
    }
   ],
   "source": [
    "unique_rows = social_media_analysis.drop_duplicates()\n",
    "unique_rows.shape\n"
   ]
  },
  {
   "cell_type": "code",
   "execution_count": 60,
   "metadata": {},
   "outputs": [
    {
     "data": {
      "text/plain": [
       "is_social_media\n",
       "0    620598\n",
       "1      6542\n",
       "Name: count, dtype: int64"
      ]
     },
     "execution_count": 60,
     "metadata": {},
     "output_type": "execute_result"
    }
   ],
   "source": [
    "unique_rows['is_social_media'].value_counts()"
   ]
  },
  {
   "cell_type": "code",
   "execution_count": 62,
   "metadata": {},
   "outputs": [
    {
     "data": {
      "text/plain": [
       "<Figure size 1200x1200 with 0 Axes>"
      ]
     },
     "metadata": {},
     "output_type": "display_data"
    },
    {
     "data": {
      "image/png": "[encoded data removed]",
      "text/plain": [
       "<Figure size 640x480 with 1 Axes>"
      ]
     },
     "metadata": {},
     "output_type": "display_data"
    }
   ],
   "source": [
    "plt.figure(figsize = (12, 12))\n",
    "fig, ax = plt.subplots()\n",
    "ax.pie(\n",
    "    unique_rows['is_social_media'].value_counts().values,\n",
    "    labels=unique_rows['is_social_media'].value_counts().index.tolist(),\n",
    "    autopct='%1.1f%%',\n",
    "    pctdistance=1.25,\n",
    "    labeldistance=0.2\n",
    ")\n",
    "ax.set_title(label = \"Social media campaign distribution for non_duplicate rows\")\n",
    "ax.legend(['other_media_source', 'social_media'], loc = 3)\n",
    "plt.show()"
   ]
  },
  {
   "cell_type": "code",
   "execution_count": 63,
   "metadata": {},
   "outputs": [
    {
     "data": {
      "text/plain": [
       "is_social_media\n",
       "0    12333\n",
       "1      112\n",
       "Name: count, dtype: int64"
      ]
     },
     "execution_count": 63,
     "metadata": {},
     "output_type": "execute_result"
    }
   ],
   "source": [
    "unique_rows[unique_rows['target_action'] == 1]['is_social_media'].value_counts()"
   ]
  },
  {
   "cell_type": "code",
   "execution_count": 65,
   "metadata": {},
   "outputs": [
    {
     "data": {
      "text/plain": [
       "<Figure size 1200x1200 with 0 Axes>"
      ]
     },
     "metadata": {},
     "output_type": "display_data"
    },
    {
     "data": {
      "image/png": "[encoded data removed]",
      "text/plain": [
       "<Figure size 640x480 with 1 Axes>"
      ]
     },
     "metadata": {},
     "output_type": "display_data"
    }
   ],
   "source": [
    "plt.figure(figsize = (12, 12))\n",
    "fig, ax = plt.subplots()\n",
    "ax.pie(\n",
    "    unique_rows[unique_rows['target_action'] == 1]['is_social_media'].value_counts().values,\n",
    "    labels=unique_rows[unique_rows['target_action'] == 1]['is_social_media'].value_counts().index.tolist(),\n",
    "    autopct='%1.1f%%',\n",
    "    pctdistance=1.25,\n",
    "    labeldistance=0.2\n",
    ")\n",
    "ax.set_title(label = \"Social media campaign distribution for non_duplicate rows(Target action)\")\n",
    "ax.legend(['other_media_source', 'social_media'], loc = 3)\n",
    "plt.show()"
   ]
  },
  {
   "cell_type": "markdown",
   "metadata": {},
   "source": [
    "Conclusion : I assume that Sberbankauto doesn't have to improve it's campaign in social media as the contribution of social nets is not such huge generally. It is better to invest financial resources to more profitable ways rather than social media campaigns."
   ]
  },
  {
   "cell_type": "markdown",
   "metadata": {},
   "source": []
  }
 ],
 "metadata": {
  "kernelspec": {
   "display_name": "Python 3",
   "language": "python",
   "name": "python3"
  },
  "language_info": {
   "codemirror_mode": {
    "name": "ipython",
    "version": 3
   },
   "file_extension": ".py",
   "mimetype": "text/x-python",
   "name": "python",
   "nbconvert_exporter": "python",
   "pygments_lexer": "ipython3",
   "version": "3.12.1"
  }
 },
 "nbformat": 4,
 "nbformat_minor": 2
}
